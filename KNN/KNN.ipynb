{
 "cells": [
  {
   "cell_type": "markdown",
   "id": "7ea36b22-e034-475e-914c-f2cb040bf330",
   "metadata": {},
   "source": [
    "# Imports "
   ]
  },
  {
   "cell_type": "code",
   "execution_count": 1,
   "id": "11103a40-f1a3-48ad-84c5-676ff55c11a2",
   "metadata": {},
   "outputs": [],
   "source": [
    "import numpy as np                                  # linear algebra\n",
    "import pandas as pd                                 # data processing\n",
    "import matplotlib.pyplot as plt                     # data visualization  \n",
    "from collections import Counter                     \n",
    "from sklearn.neighbors import KNeighborsClassifier  # built-in KNN\n",
    "from sklearn.model_selection import train_test_split , GridSearchCV\n",
    "from sklearn.preprocessing import StandardScaler\n",
    "from sklearn.metrics import confusion_matrix, accuracy_score, precision_score, recall_score, f1_score\n",
    "import seaborn as sns"
   ]
  },
  {
   "cell_type": "markdown",
   "id": "cd47be4f-437d-4ad4-9a8d-5b4da62045b7",
   "metadata": {},
   "source": [
    "# Loading the dataset "
   ]
  },
  {
   "cell_type": "code",
   "execution_count": 2,
   "id": "fd760f30-b3bb-4692-8113-41aa0093339c",
   "metadata": {},
   "outputs": [
    {
     "name": "stdout",
     "output_type": "stream",
     "text": [
      "Dataset Shape : (19020, 12)\n",
      "<class 'pandas.core.frame.DataFrame'>\n",
      "RangeIndex: 19020 entries, 0 to 19019\n",
      "Data columns (total 12 columns):\n",
      " #   Column      Non-Null Count  Dtype  \n",
      "---  ------      --------------  -----  \n",
      " 0   Unnamed: 0  19020 non-null  int64  \n",
      " 1   fLength     19020 non-null  float64\n",
      " 2   fWidth      19020 non-null  float64\n",
      " 3   fSize       19020 non-null  float64\n",
      " 4   fConc       19020 non-null  float64\n",
      " 5   fConc1      19020 non-null  float64\n",
      " 6   fAsym       19020 non-null  float64\n",
      " 7   fM3Long     19020 non-null  float64\n",
      " 8   fM3Trans    19020 non-null  float64\n",
      " 9   fAlpha      19020 non-null  float64\n",
      " 10  fDist       19020 non-null  float64\n",
      " 11  class       19020 non-null  object \n",
      "dtypes: float64(10), int64(1), object(1)\n",
      "memory usage: 1.7+ MB\n",
      "None\n",
      "   Unnamed: 0   fLength    fWidth   fSize   fConc  fConc1     fAsym  fM3Long  \\\n",
      "0           0   28.7967   16.0021  2.6449  0.3918  0.1982   27.7004  22.0110   \n",
      "1           1   31.6036   11.7235  2.5185  0.5303  0.3773   26.2722  23.8238   \n",
      "2           2  162.0520  136.0310  4.0612  0.0374  0.0187  116.7410 -64.8580   \n",
      "3           3   23.8172    9.5728  2.3385  0.6147  0.3922   27.2107  -6.4633   \n",
      "4           4   75.1362   30.9205  3.1611  0.3168  0.1832   -5.5277  28.5525   \n",
      "\n",
      "   fM3Trans   fAlpha     fDist class  \n",
      "0   -8.2027  40.0920   81.8828     g  \n",
      "1   -9.9574   6.3609  205.2610     g  \n",
      "2  -45.2160  76.9600  256.7880     g  \n",
      "3   -7.1513  10.4490  116.7370     g  \n",
      "4   21.8393   4.6480  356.4620     g  \n"
     ]
    }
   ],
   "source": [
    "file_path = r\"./telescope_data.csv\"\n",
    "df = pd.read_csv(file_path)\n",
    "\n",
    "# printing the shape of the dataset\n",
    "print(f'Dataset Shape : {df.shape}')\n",
    "\n",
    "# Viewing the summary of the dataset \n",
    "print(df.info())\n",
    "\n",
    "# printing the first 5 rows of data\n",
    "print(df.head())"
   ]
  },
  {
   "cell_type": "markdown",
   "id": "3236d07d-a020-42d3-abf5-63722c6c9234",
   "metadata": {},
   "source": [
    "# Dropping redundant columns "
   ]
  },
  {
   "cell_type": "code",
   "execution_count": 3,
   "id": "6f2ba0ff-56a9-4e3c-bd62-b1f95af09f20",
   "metadata": {},
   "outputs": [
    {
     "name": "stdout",
     "output_type": "stream",
     "text": [
      "    fLength    fWidth   fSize   fConc  fConc1     fAsym  fM3Long  fM3Trans  \\\n",
      "0   28.7967   16.0021  2.6449  0.3918  0.1982   27.7004  22.0110   -8.2027   \n",
      "1   31.6036   11.7235  2.5185  0.5303  0.3773   26.2722  23.8238   -9.9574   \n",
      "2  162.0520  136.0310  4.0612  0.0374  0.0187  116.7410 -64.8580  -45.2160   \n",
      "3   23.8172    9.5728  2.3385  0.6147  0.3922   27.2107  -6.4633   -7.1513   \n",
      "4   75.1362   30.9205  3.1611  0.3168  0.1832   -5.5277  28.5525   21.8393   \n",
      "\n",
      "    fAlpha     fDist class  \n",
      "0  40.0920   81.8828     g  \n",
      "1   6.3609  205.2610     g  \n",
      "2  76.9600  256.7880     g  \n",
      "3  10.4490  116.7370     g  \n",
      "4   4.6480  356.4620     g  \n"
     ]
    }
   ],
   "source": [
    "# drop ID column from dataset\n",
    "df.drop('Unnamed: 0', axis=1, inplace=True)  # axis=1 => column\n",
    "print(df.head())"
   ]
  },
  {
   "cell_type": "markdown",
   "id": "8d60d3ed-ad29-4389-b2c2-7553c811a3ee",
   "metadata": {},
   "source": [
    "# Checking if classes are balanced"
   ]
  },
  {
   "cell_type": "code",
   "execution_count": 4,
   "id": "a2c5c865-bf1f-4ae3-8c0e-29f00291b812",
   "metadata": {},
   "outputs": [
    {
     "name": "stdout",
     "output_type": "stream",
     "text": [
      "class\n",
      "g    12332\n",
      "h     6688\n",
      "Name: count, dtype: int64\n"
     ]
    }
   ],
   "source": [
    "# printing number of samples in each class\n",
    "print(df['class'].value_counts())\n",
    "\n",
    "# separating each class\n",
    "g_class = df[df['class'] == 'g']\n",
    "h_class = df[df['class'] == 'h']"
   ]
  },
  {
   "cell_type": "markdown",
   "id": "cd030ebc-72d6-4f8e-9ef8-e3003e96143d",
   "metadata": {},
   "source": [
    "# Balancing the majority class 'g' "
   ]
  },
  {
   "cell_type": "code",
   "execution_count": 5,
   "id": "e2257c85-e85e-4083-afd9-846977df5c16",
   "metadata": {},
   "outputs": [
    {
     "name": "stdout",
     "output_type": "stream",
     "text": [
      "Dataset Shape : (13376, 11)\n",
      "    fLength   fWidth   fSize   fConc  fConc1     fAsym   fM3Long  fM3Trans  \\\n",
      "0  149.5970  39.7260  3.1188  0.2784  0.1639 -123.4090 -109.5100   32.5458   \n",
      "1   22.2435  12.3986  2.2978  0.4635  0.2544   28.8497    8.6554   10.5118   \n",
      "2   29.1726  11.2124  2.3865  0.4723  0.2485   23.5843  -20.7460    5.9364   \n",
      "3   85.7914  23.9698  3.2270  0.2182  0.0790  -75.4051   75.0356   21.5026   \n",
      "4   74.9025  25.0511  3.0028  0.1908  0.1217   92.9118   59.8709   -8.8902   \n",
      "\n",
      "    fAlpha     fDist class  \n",
      "0  58.2243  300.1000     h  \n",
      "1  44.3431   84.6513     g  \n",
      "2  21.0941  185.1500     g  \n",
      "3  10.3207  261.0096     h  \n",
      "4   0.7450  248.4870     g  \n"
     ]
    }
   ],
   "source": [
    "g_class_balanced = g_class.sample(n=len(h_class), random_state=42)\n",
    "\n",
    "# combine classes again \n",
    "df = pd.concat([g_class_balanced, h_class], axis=0).sample(frac=1, random_state=42).reset_index(drop=True)\n",
    "\n",
    "# Shuffle full dataset to ensure randomness \n",
    "df = df.sample(frac=1, random_state=42).reset_index(drop=True)\n",
    "\n",
    "print(f'Dataset Shape : {df.shape}')\n",
    "print(df.head())"
   ]
  },
  {
   "cell_type": "markdown",
   "id": "81d5ca8c-ff3c-4ac3-bd86-5668e423b858",
   "metadata": {},
   "source": [
    "# Separating features (X) and target (Y)"
   ]
  },
  {
   "cell_type": "code",
   "execution_count": 6,
   "id": "6e60a752-d34d-403d-b3ed-27763f216ff0",
   "metadata": {},
   "outputs": [
    {
     "data": {
      "text/html": [
       "<div>\n",
       "<style scoped>\n",
       "    .dataframe tbody tr th:only-of-type {\n",
       "        vertical-align: middle;\n",
       "    }\n",
       "\n",
       "    .dataframe tbody tr th {\n",
       "        vertical-align: top;\n",
       "    }\n",
       "\n",
       "    .dataframe thead th {\n",
       "        text-align: right;\n",
       "    }\n",
       "</style>\n",
       "<table border=\"1\" class=\"dataframe\">\n",
       "  <thead>\n",
       "    <tr style=\"text-align: right;\">\n",
       "      <th></th>\n",
       "      <th>fLength</th>\n",
       "      <th>fWidth</th>\n",
       "      <th>fSize</th>\n",
       "      <th>fConc</th>\n",
       "      <th>fConc1</th>\n",
       "      <th>fAsym</th>\n",
       "      <th>fM3Long</th>\n",
       "      <th>fM3Trans</th>\n",
       "      <th>fAlpha</th>\n",
       "      <th>fDist</th>\n",
       "    </tr>\n",
       "  </thead>\n",
       "  <tbody>\n",
       "    <tr>\n",
       "      <th>count</th>\n",
       "      <td>13376.000000</td>\n",
       "      <td>13376.000000</td>\n",
       "      <td>13376.000000</td>\n",
       "      <td>13376.000000</td>\n",
       "      <td>13376.000000</td>\n",
       "      <td>13376.000000</td>\n",
       "      <td>13376.000000</td>\n",
       "      <td>13376.000000</td>\n",
       "      <td>13376.000000</td>\n",
       "      <td>13376.000000</td>\n",
       "    </tr>\n",
       "    <tr>\n",
       "      <th>mean</th>\n",
       "      <td>57.309709</td>\n",
       "      <td>23.687091</td>\n",
       "      <td>2.841919</td>\n",
       "      <td>0.378892</td>\n",
       "      <td>0.214536</td>\n",
       "      <td>-7.707633</td>\n",
       "      <td>7.472266</td>\n",
       "      <td>0.247848</td>\n",
       "      <td>31.446646</td>\n",
       "      <td>195.279027</td>\n",
       "    </tr>\n",
       "    <tr>\n",
       "      <th>std</th>\n",
       "      <td>47.031303</td>\n",
       "      <td>20.891638</td>\n",
       "      <td>0.475887</td>\n",
       "      <td>0.184209</td>\n",
       "      <td>0.111972</td>\n",
       "      <td>65.429032</td>\n",
       "      <td>56.421633</td>\n",
       "      <td>23.202069</td>\n",
       "      <td>26.972686</td>\n",
       "      <td>76.366216</td>\n",
       "    </tr>\n",
       "    <tr>\n",
       "      <th>min</th>\n",
       "      <td>4.283500</td>\n",
       "      <td>0.000000</td>\n",
       "      <td>1.941300</td>\n",
       "      <td>0.013100</td>\n",
       "      <td>0.000300</td>\n",
       "      <td>-457.916100</td>\n",
       "      <td>-331.780000</td>\n",
       "      <td>-205.894700</td>\n",
       "      <td>0.000200</td>\n",
       "      <td>1.282600</td>\n",
       "    </tr>\n",
       "    <tr>\n",
       "      <th>25%</th>\n",
       "      <td>24.596075</td>\n",
       "      <td>11.725725</td>\n",
       "      <td>2.493500</td>\n",
       "      <td>0.233475</td>\n",
       "      <td>0.127000</td>\n",
       "      <td>-24.567925</td>\n",
       "      <td>-14.960300</td>\n",
       "      <td>-10.999700</td>\n",
       "      <td>7.294300</td>\n",
       "      <td>142.696500</td>\n",
       "    </tr>\n",
       "    <tr>\n",
       "      <th>50%</th>\n",
       "      <td>38.666650</td>\n",
       "      <td>17.139150</td>\n",
       "      <td>2.753600</td>\n",
       "      <td>0.355550</td>\n",
       "      <td>0.197500</td>\n",
       "      <td>2.664350</td>\n",
       "      <td>14.594450</td>\n",
       "      <td>0.000000</td>\n",
       "      <td>23.485000</td>\n",
       "      <td>193.375000</td>\n",
       "    </tr>\n",
       "    <tr>\n",
       "      <th>75%</th>\n",
       "      <td>76.269250</td>\n",
       "      <td>26.147300</td>\n",
       "      <td>3.117800</td>\n",
       "      <td>0.505300</td>\n",
       "      <td>0.287400</td>\n",
       "      <td>23.581450</td>\n",
       "      <td>35.178700</td>\n",
       "      <td>11.054750</td>\n",
       "      <td>52.560125</td>\n",
       "      <td>243.316000</td>\n",
       "    </tr>\n",
       "    <tr>\n",
       "      <th>max</th>\n",
       "      <td>334.177000</td>\n",
       "      <td>256.382000</td>\n",
       "      <td>5.323300</td>\n",
       "      <td>0.893000</td>\n",
       "      <td>0.675200</td>\n",
       "      <td>575.240700</td>\n",
       "      <td>238.321000</td>\n",
       "      <td>179.851000</td>\n",
       "      <td>90.000000</td>\n",
       "      <td>495.561000</td>\n",
       "    </tr>\n",
       "  </tbody>\n",
       "</table>\n",
       "</div>"
      ],
      "text/plain": [
       "            fLength        fWidth         fSize         fConc        fConc1  \\\n",
       "count  13376.000000  13376.000000  13376.000000  13376.000000  13376.000000   \n",
       "mean      57.309709     23.687091      2.841919      0.378892      0.214536   \n",
       "std       47.031303     20.891638      0.475887      0.184209      0.111972   \n",
       "min        4.283500      0.000000      1.941300      0.013100      0.000300   \n",
       "25%       24.596075     11.725725      2.493500      0.233475      0.127000   \n",
       "50%       38.666650     17.139150      2.753600      0.355550      0.197500   \n",
       "75%       76.269250     26.147300      3.117800      0.505300      0.287400   \n",
       "max      334.177000    256.382000      5.323300      0.893000      0.675200   \n",
       "\n",
       "              fAsym       fM3Long      fM3Trans        fAlpha         fDist  \n",
       "count  13376.000000  13376.000000  13376.000000  13376.000000  13376.000000  \n",
       "mean      -7.707633      7.472266      0.247848     31.446646    195.279027  \n",
       "std       65.429032     56.421633     23.202069     26.972686     76.366216  \n",
       "min     -457.916100   -331.780000   -205.894700      0.000200      1.282600  \n",
       "25%      -24.567925    -14.960300    -10.999700      7.294300    142.696500  \n",
       "50%        2.664350     14.594450      0.000000     23.485000    193.375000  \n",
       "75%       23.581450     35.178700     11.054750     52.560125    243.316000  \n",
       "max      575.240700    238.321000    179.851000     90.000000    495.561000  "
      ]
     },
     "execution_count": 6,
     "metadata": {},
     "output_type": "execute_result"
    }
   ],
   "source": [
    "x = df.drop(columns=['class'])  # features\n",
    "y = df['class']                 # target\n",
    "\n",
    "# viewing the description of the features \n",
    "x.describe()"
   ]
  },
  {
   "cell_type": "markdown",
   "id": "2c88c5db-1b09-49bd-b841-807978d8a09f",
   "metadata": {},
   "source": [
    "# Splitting the data "
   ]
  },
  {
   "cell_type": "code",
   "execution_count": 7,
   "id": "453f7407-f2b5-4b37-bde5-68557c8a0681",
   "metadata": {},
   "outputs": [],
   "source": [
    "# Training - Validation - Testing split (70% - 15% - 15%)\n",
    "\n",
    "# x_temp , y_temp => train+test 30% to be splitted  \n",
    "x_train, x_temp, y_train, y_temp = train_test_split(x, y, test_size=0.3, random_state=42)\n",
    "x_val, x_test, y_val, y_test = train_test_split(x_temp, y_temp, test_size=0.5, random_state=42)\n"
   ]
  },
  {
   "cell_type": "markdown",
   "id": "00eeaebb-ff21-43e3-8784-f2f0066274fb",
   "metadata": {},
   "source": [
    "# Normalizing the features "
   ]
  },
  {
   "cell_type": "code",
   "execution_count": 8,
   "id": "b2965148-49d2-4d2e-9681-e0b2656f77bb",
   "metadata": {},
   "outputs": [],
   "source": [
    "scaler = StandardScaler()\n",
    "\n",
    "# fit() only for training data to prevent data leakage\n",
    "x_train = scaler.fit_transform(x_train) \n",
    "\n",
    "# val and train scaled relative to train\n",
    "x_val = scaler.transform(x_val)\n",
    "x_test = scaler.transform(x_test)"
   ]
  },
  {
   "cell_type": "markdown",
   "id": "03ba3020-1bbe-4477-9833-a207785e054c",
   "metadata": {},
   "source": [
    "# KNN implementation - from Scratch"
   ]
  },
  {
   "cell_type": "code",
   "execution_count": 9,
   "id": "8a571e84-8f48-4bd9-9fb5-aa6a443fdf68",
   "metadata": {},
   "outputs": [],
   "source": [
    "class KNN:\n",
    "    def __init__(self, k):\n",
    "        self.k = k\n",
    "    \n",
    "    def fit(self, x_train, y_train):\n",
    "        self.x_train = x_train\n",
    "        self.y_train = np.array(y_train) \n",
    "    \n",
    "    def predict(self, x_test):\n",
    "        predictions = [self._predict(x) for x in x_test]\n",
    "        return np.array(predictions)\n",
    "    \n",
    "    def _predict(self, x):\n",
    "        \n",
    "        # Compute Euclidean distances\n",
    "        distances = [np.linalg.norm(x - x_train) for x_train in self.x_train]\n",
    "        \n",
    "        # Get the k nearest samples\n",
    "        k_indices = np.argsort(distances)[:self.k]\n",
    "        k_nearest_labels = [self.y_train[i] for i in k_indices]\n",
    "        \n",
    "        # Majority vote\n",
    "        most_common = Counter(k_nearest_labels).most_common(1)\n",
    "        return most_common[0][0]"
   ]
  },
  {
   "cell_type": "markdown",
   "id": "3c350873-711f-46fc-a28e-4f4e68cbda41",
   "metadata": {},
   "source": [
    "# KNN - Manual Model"
   ]
  },
  {
   "cell_type": "code",
   "execution_count": null,
   "id": "94155ce7-d9eb-4693-9534-4ad397f38896",
   "metadata": {},
   "outputs": [
    {
     "name": "stdout",
     "output_type": "stream",
     "text": [
      "Accuracy of manual model with k = 1 : 78.28%\n",
      "Accuracy of manual model with k = 3 : 78.82%\n",
      "Accuracy of manual model with k = 5 : 80.07%\n",
      "Accuracy of manual model with k = 7 : 81.12%\n"
     ]
    }
   ],
   "source": [
    "# list of odd k values \n",
    "ks = list(range(1, 26, 2))\n",
    "val_accs_manual = []\n",
    "\n",
    "for k in ks:\n",
    "    # Initialize and train manual KNN\n",
    "    knn_manual = KNN(k=k)       \n",
    "    knn_manual.fit(x_train, y_train)\n",
    "    \n",
    "    # Predictions on test set\n",
    "    y_knn_manual_pred = knn_manual.predict(x_test)\n",
    "    \n",
    "    # Accuracy calculation\n",
    "    accuracy = accuracy_score(y_test, y_knn_manual_pred) * 100\n",
    "    val_accs_manual.append(accuracy)\n",
    "    \n",
    "    print(f'Accuracy of manual model with k = {k} : {accuracy:.2f}%')\n",
    "\n",
    "# Best k\n",
    "best_indx_manual = int(np.argmax(val_accs_manual))\n",
    "best_k_manual = ks[best_indx_manual]\n",
    "print(f'\\nBest k for manual model : {best_k_manual} with accuracy : {val_accs_manual[best_indx_manual]:.2f}%')\n",
    "\n",
    "#  Plotting accuracy vs k\n",
    "plt.figure(figsize=(8,5))\n",
    "plt.plot(ks, val_accs_manual, marker='o', color='b')\n",
    "plt.title('Manual KNN Validation Accuracy vs K')\n",
    "plt.xlabel('Number of Neighbors (k)')\n",
    "plt.ylabel('Validation Accuracy (%)')\n",
    "plt.xticks(ks)\n",
    "plt.grid(True)\n",
    "plt.show()\n"
   ]
  },
  {
   "cell_type": "markdown",
   "id": "9b0807e6-415f-4250-bb7f-3c9533a4a1c7",
   "metadata": {},
   "source": [
    "# Training the manual model with the best k"
   ]
  },
  {
   "cell_type": "code",
   "execution_count": null,
   "id": "d46e31ee-1632-496a-b327-a77b0b6f152c",
   "metadata": {},
   "outputs": [],
   "source": [
    "# Train Manual model with the best k\n",
    "knn_manual = KNN(k=best_k_manual)\n",
    "knn_manual.fit(x_train, y_train)\n",
    "\n",
    "# predict\n",
    "y_pred_manual = knn_manual.predict(x_test)\n"
   ]
  },
  {
   "cell_type": "markdown",
   "id": "4920da72-644e-4bad-a6b3-313a6c1063c3",
   "metadata": {},
   "source": [
    "# Confusion Matrix - Manual Model"
   ]
  },
  {
   "cell_type": "code",
   "execution_count": null,
   "id": "232888b6-fc99-4503-a50d-51dbc7286765",
   "metadata": {
    "scrolled": true
   },
   "outputs": [],
   "source": [
    "# Compute confusion matrix\n",
    "cm_knn_manual = confusion_matrix(y_test, y_pred_manual)\n",
    "\n",
    "# Get unique class labels\n",
    "labels = np.unique(y_test)\n",
    "\n",
    "# Plot confusion matrix for KNN\n",
    "plt.figure(figsize=(6,4))\n",
    "sns.heatmap(cm_knn_manual, annot=True, fmt='d', cmap='Purples', xticklabels=labels, yticklabels=labels)\n",
    "plt.xlabel('Predicted')\n",
    "plt.ylabel('Actual')\n",
    "plt.title('Confusion Matrix - KNN - Manual Model')\n",
    "plt.show()"
   ]
  },
  {
   "cell_type": "markdown",
   "id": "85e49c53-843d-4e09-9cbc-911169f35fcd",
   "metadata": {},
   "source": [
    "# KNN - Built-in Model"
   ]
  },
  {
   "cell_type": "code",
   "execution_count": null,
   "id": "67a7eec7-098b-459b-9ded-8915a6ced5b2",
   "metadata": {},
   "outputs": [],
   "source": [
    "# list of odd k values \n",
    "ks = list(range(1,26,2))\n",
    "val_accs_builtin = []\n",
    "\n",
    "for k in ks:\n",
    "    knn_builtin = KNeighborsClassifier(n_neighbors=k, metric='euclidean')\n",
    "    knn_builtin.fit(x_train, y_train)\n",
    "    \n",
    "    # predict\n",
    "    y_knn_builtin_pred = knn_builtin.predict(x_test)\n",
    "\n",
    "    # accuracy\n",
    "    accuracy = accuracy_score(y_test, y_knn_builtin_pred) * 100\n",
    "    val_accs_builtin.append(accuracy)\n",
    "\n",
    "    print(f'Accuracy of built-in model with k = {k} : {accuracy:.2f}%')\n",
    "    \n",
    "# Best k\n",
    "best_indx = int(np.argmax(val_accs_builtin))\n",
    "best_k_builtin = ks[best_indx]\n",
    "print(f'\\nBest k for built-in model : {best_k_builtin} with accuracy : {val_accs_builtin[best_indx]:.2f}%')\n",
    "\n",
    "# Plotting acccuracy vs ks\n",
    "plt.figure(figsize=(8,5))\n",
    "plt.plot(ks, val_accs_builtin, marker='*', color='b')\n",
    "plt.title('KNN Validation Accuracy vs K')\n",
    "plt.xlabel('Number of Neighbors (k)')\n",
    "plt.ylabel('Validation Accuracy (%)')\n",
    "plt.xticks(ks)\n",
    "plt.grid(True)\n",
    "plt.show()"
   ]
  },
  {
   "cell_type": "markdown",
   "id": "aca6e635-18b7-460a-a4e9-4249a7228bf5",
   "metadata": {},
   "source": [
    "# Training the built-in model with the best k"
   ]
  },
  {
   "cell_type": "code",
   "execution_count": null,
   "id": "b919c5fe-4756-4c0c-9a39-2daba20b9cff",
   "metadata": {},
   "outputs": [],
   "source": [
    "# Train Manual model with the best k\n",
    "knn_builtin = KNeighborsClassifier(n_neighbors=best_k_builtin, metric='euclidean')\n",
    "knn_builtin.fit(x_train, y_train)\n",
    "\n",
    "# predict\n",
    "y_pred_builtin = knn_builtin.predict(x_test)\n"
   ]
  },
  {
   "cell_type": "markdown",
   "id": "4585aeda-e377-4ed5-bbf5-595427c5c304",
   "metadata": {},
   "source": [
    "# Confusion Matrix - Built-in Model"
   ]
  },
  {
   "cell_type": "code",
   "execution_count": null,
   "id": "94ab3c88-9340-4d5f-b68d-f7d80d25ad54",
   "metadata": {},
   "outputs": [],
   "source": [
    "# Compute confusion matrix\n",
    "cm_knn_builtin = confusion_matrix(y_test, y_pred_builtin)\n",
    "\n",
    "# Get unique class labels\n",
    "labels = np.unique(y_test)\n",
    "\n",
    "# Plot confusion matrix for KNN\n",
    "plt.figure(figsize=(6,4))\n",
    "sns.heatmap(cm_knn_builtin, annot=True, fmt='d', cmap='Purples', xticklabels=labels, yticklabels=labels)\n",
    "plt.xlabel('Predicted')\n",
    "plt.ylabel('Actual')\n",
    "plt.title('Confusion Matrix - KNN - Built-in Model')\n",
    "plt.show()"
   ]
  },
  {
   "cell_type": "markdown",
   "id": "dc5cacef-1355-4217-8a81-7daa77b21d48",
   "metadata": {},
   "source": [
    "# Perfomance Evaluation"
   ]
  },
  {
   "cell_type": "code",
   "execution_count": null,
   "id": "8cd4c68c-d4f9-41bf-af43-64721f12b128",
   "metadata": {
    "scrolled": true
   },
   "outputs": [],
   "source": [
    "# Calculate performance metrics\n",
    "accuracy_manual = accuracy_score(y_test, y_knn_manual_pred) * 100\n",
    "precision_manual = precision_score(y_test, y_pred_manual, pos_label='h') * 100\n",
    "recall_manual = recall_score(y_test, y_pred_manual, pos_label='h') * 100\n",
    "f1_manual = f1_score(y_test, y_pred_manual, pos_label='h') * 100\n",
    "\n",
    "accuracy_builtin = accuracy_score(y_test, y_knn_builtin_pred) * 100\n",
    "precision_builtin = precision_score(y_test, y_pred_builtin, pos_label='h') * 100\n",
    "recall_builtin = recall_score(y_test, y_pred_builtin, pos_label='h') * 100\n",
    "f1_builtin = f1_score(y_test, y_pred_builtin, pos_label='h') * 100\n",
    "\n",
    "# Print evaluation results\n",
    "print(f'KNN Accuracy manual: {accuracy_manual:.2f}')\n",
    "print(f'KNN Precision manual: {precision_manual:.2f}')\n",
    "print(f'KNN Recall manual: {recall_manual:.2f}')\n",
    "print(f'KNN F1-score manual: {f1_manual:.2f}')\n",
    "\n",
    "print(f'KNN Accuracy manual: {accuracy_builtin:.2f}')\n",
    "print(f'KNN Precision sklearn: {precision_builtin:.2f}')\n",
    "print(f'KNN Recall sklearn: {recall_builtin:.2f}')\n",
    "print(f'KNN F1-score sklearn: {f1_builtin:.2f}')"
   ]
  }
 ],
 "metadata": {
  "kernelspec": {
   "display_name": "Python 3 (ipykernel)",
   "language": "python",
   "name": "python3"
  },
  "language_info": {
   "codemirror_mode": {
    "name": "ipython",
    "version": 3
   },
   "file_extension": ".py",
   "mimetype": "text/x-python",
   "name": "python",
   "nbconvert_exporter": "python",
   "pygments_lexer": "ipython3",
   "version": "3.11.9"
  }
 },
 "nbformat": 4,
 "nbformat_minor": 5
}
