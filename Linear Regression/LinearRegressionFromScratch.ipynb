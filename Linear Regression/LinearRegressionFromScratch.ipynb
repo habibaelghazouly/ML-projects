{
 "cells": [
  {
   "cell_type": "markdown",
   "id": "1784b947",
   "metadata": {},
   "source": [
    "# Imports & Notes"
   ]
  },
  {
   "cell_type": "code",
   "execution_count": 1,
   "id": "fc8ae115",
   "metadata": {},
   "outputs": [],
   "source": [
    "import numpy as np                          # linear algebra \n",
    "import pandas as pd                         # data processing    \n",
    "import matplotlib.pyplot as plt             # data plotting\n",
    "from sklearn.linear_model import Lasso      # Lasso regression from sklearn\n",
    "from sklearn.linear_model import LassoCV    \n",
    "\n",
    "# For numeric stability / reproducibility\n",
    "np.random.seed(42)"
   ]
  },
  {
   "cell_type": "markdown",
   "id": "01095c63",
   "metadata": {},
   "source": [
    "# Reading Data"
   ]
  },
  {
   "cell_type": "code",
   "execution_count": 2,
   "id": "480348f6",
   "metadata": {},
   "outputs": [
    {
     "name": "stdout",
     "output_type": "stream",
     "text": [
      "Samples: 20640 Features: 13\n",
      "Data shape: (20640, 14)\n",
      "\n",
      "First 5 rows:\n"
     ]
    },
    {
     "data": {
      "text/html": [
       "<div>\n",
       "<style scoped>\n",
       "    .dataframe tbody tr th:only-of-type {\n",
       "        vertical-align: middle;\n",
       "    }\n",
       "\n",
       "    .dataframe tbody tr th {\n",
       "        vertical-align: top;\n",
       "    }\n",
       "\n",
       "    .dataframe thead th {\n",
       "        text-align: right;\n",
       "    }\n",
       "</style>\n",
       "<table border=\"1\" class=\"dataframe\">\n",
       "  <thead>\n",
       "    <tr style=\"text-align: right;\">\n",
       "      <th></th>\n",
       "      <th>Median_House_Value</th>\n",
       "      <th>Median_Income</th>\n",
       "      <th>Median_Age</th>\n",
       "      <th>Tot_Rooms</th>\n",
       "      <th>Tot_Bedrooms</th>\n",
       "      <th>Population</th>\n",
       "      <th>Households</th>\n",
       "      <th>Latitude</th>\n",
       "      <th>Longitude</th>\n",
       "      <th>Distance_to_coast</th>\n",
       "      <th>Distance_to_LA</th>\n",
       "      <th>Distance_to_SanDiego</th>\n",
       "      <th>Distance_to_SanJose</th>\n",
       "      <th>Distance_to_SanFrancisco</th>\n",
       "    </tr>\n",
       "  </thead>\n",
       "  <tbody>\n",
       "    <tr>\n",
       "      <th>0</th>\n",
       "      <td>452600.0</td>\n",
       "      <td>8.3252</td>\n",
       "      <td>41</td>\n",
       "      <td>880</td>\n",
       "      <td>129</td>\n",
       "      <td>322</td>\n",
       "      <td>126</td>\n",
       "      <td>37.88</td>\n",
       "      <td>-122.23</td>\n",
       "      <td>9263.040773</td>\n",
       "      <td>556529.158342</td>\n",
       "      <td>735501.806984</td>\n",
       "      <td>67432.517001</td>\n",
       "      <td>21250.213767</td>\n",
       "    </tr>\n",
       "    <tr>\n",
       "      <th>1</th>\n",
       "      <td>358500.0</td>\n",
       "      <td>8.3014</td>\n",
       "      <td>21</td>\n",
       "      <td>7099</td>\n",
       "      <td>1106</td>\n",
       "      <td>2401</td>\n",
       "      <td>1138</td>\n",
       "      <td>37.86</td>\n",
       "      <td>-122.22</td>\n",
       "      <td>10225.733072</td>\n",
       "      <td>554279.850069</td>\n",
       "      <td>733236.884360</td>\n",
       "      <td>65049.908574</td>\n",
       "      <td>20880.600400</td>\n",
       "    </tr>\n",
       "    <tr>\n",
       "      <th>2</th>\n",
       "      <td>352100.0</td>\n",
       "      <td>7.2574</td>\n",
       "      <td>52</td>\n",
       "      <td>1467</td>\n",
       "      <td>190</td>\n",
       "      <td>496</td>\n",
       "      <td>177</td>\n",
       "      <td>37.85</td>\n",
       "      <td>-122.24</td>\n",
       "      <td>8259.085109</td>\n",
       "      <td>554610.717069</td>\n",
       "      <td>733525.682937</td>\n",
       "      <td>64867.289833</td>\n",
       "      <td>18811.487450</td>\n",
       "    </tr>\n",
       "    <tr>\n",
       "      <th>3</th>\n",
       "      <td>341300.0</td>\n",
       "      <td>5.6431</td>\n",
       "      <td>52</td>\n",
       "      <td>1274</td>\n",
       "      <td>235</td>\n",
       "      <td>558</td>\n",
       "      <td>219</td>\n",
       "      <td>37.85</td>\n",
       "      <td>-122.25</td>\n",
       "      <td>7768.086571</td>\n",
       "      <td>555194.266086</td>\n",
       "      <td>734095.290744</td>\n",
       "      <td>65287.138412</td>\n",
       "      <td>18031.047568</td>\n",
       "    </tr>\n",
       "    <tr>\n",
       "      <th>4</th>\n",
       "      <td>342200.0</td>\n",
       "      <td>3.8462</td>\n",
       "      <td>52</td>\n",
       "      <td>1627</td>\n",
       "      <td>280</td>\n",
       "      <td>565</td>\n",
       "      <td>259</td>\n",
       "      <td>37.85</td>\n",
       "      <td>-122.25</td>\n",
       "      <td>7768.086571</td>\n",
       "      <td>555194.266086</td>\n",
       "      <td>734095.290744</td>\n",
       "      <td>65287.138412</td>\n",
       "      <td>18031.047568</td>\n",
       "    </tr>\n",
       "  </tbody>\n",
       "</table>\n",
       "</div>"
      ],
      "text/plain": [
       "   Median_House_Value  Median_Income  Median_Age  Tot_Rooms  Tot_Bedrooms  \\\n",
       "0            452600.0         8.3252          41        880           129   \n",
       "1            358500.0         8.3014          21       7099          1106   \n",
       "2            352100.0         7.2574          52       1467           190   \n",
       "3            341300.0         5.6431          52       1274           235   \n",
       "4            342200.0         3.8462          52       1627           280   \n",
       "\n",
       "   Population  Households  Latitude  Longitude  Distance_to_coast  \\\n",
       "0         322         126     37.88    -122.23        9263.040773   \n",
       "1        2401        1138     37.86    -122.22       10225.733072   \n",
       "2         496         177     37.85    -122.24        8259.085109   \n",
       "3         558         219     37.85    -122.25        7768.086571   \n",
       "4         565         259     37.85    -122.25        7768.086571   \n",
       "\n",
       "   Distance_to_LA  Distance_to_SanDiego  Distance_to_SanJose  \\\n",
       "0   556529.158342         735501.806984         67432.517001   \n",
       "1   554279.850069         733236.884360         65049.908574   \n",
       "2   554610.717069         733525.682937         64867.289833   \n",
       "3   555194.266086         734095.290744         65287.138412   \n",
       "4   555194.266086         734095.290744         65287.138412   \n",
       "\n",
       "   Distance_to_SanFrancisco  \n",
       "0              21250.213767  \n",
       "1              20880.600400  \n",
       "2              18811.487450  \n",
       "3              18031.047568  \n",
       "4              18031.047568  "
      ]
     },
     "execution_count": 2,
     "metadata": {},
     "output_type": "execute_result"
    }
   ],
   "source": [
    "# 1) Read CSV\n",
    "df = pd.read_csv(\"California_Houses.csv\")\n",
    "\n",
    "# 2) Target and features\n",
    "target_col = \"Median_House_Value\"\n",
    "y_all = df[target_col].values.astype(float)\n",
    "X_all = df.drop(columns=[target_col]).values.astype(float)\n",
    "\n",
    "# 3) Print summary\n",
    "print(\"Samples:\", X_all.shape[0], \"Features:\", X_all.shape[1])\n",
    "print(\"Data shape:\", df.shape)\n",
    "\n",
    "# 4) Show first 5 rows as a table\n",
    "print(\"\\nFirst 5 rows:\")\n",
    "df.head()"
   ]
  },
  {
   "cell_type": "markdown",
   "id": "2ba287e9",
   "metadata": {},
   "source": [
    "# Shuffle & split manually (70 / 15 / 15)"
   ]
  },
  {
   "cell_type": "code",
   "execution_count": 3,
   "id": "ec67d11b",
   "metadata": {},
   "outputs": [
    {
     "name": "stdout",
     "output_type": "stream",
     "text": [
      "(14447, 13) (3096, 13) (3097, 13)\n"
     ]
    }
   ],
   "source": [
    "n = X_all.shape[0]                          # n = total number of samples(houses)\n",
    "indices = np.random.permutation(n)          # random shuffle of indices\n",
    "\n",
    "n_train = int(0.70 * n)                     # 70% training\n",
    "n_val   = int(0.15 * n)                     # 15% validation\n",
    "# rest -> test           \n",
    "                 \n",
    "train_idx = indices[:n_train]\n",
    "val_idx   = indices[n_train:n_train+n_val]\n",
    "test_idx  = indices[n_train+n_val:]\n",
    "\n",
    "X_train = X_all[train_idx]                  # feature values for training set\n",
    "y_train = y_all[train_idx]                  # target values(Median_House_Value) for training set\n",
    "\n",
    "X_val = X_all[val_idx]\n",
    "y_val = y_all[val_idx]\n",
    "\n",
    "X_test = X_all[test_idx]\n",
    "y_test = y_all[test_idx]\n",
    "\n",
    "print(X_train.shape, X_val.shape, X_test.shape)"
   ]
  },
  {
   "cell_type": "markdown",
   "id": "03753437",
   "metadata": {},
   "source": [
    "# Feature scaling (Data is scaled properly: mean ≈ 0, std ≈ 1)"
   ]
  },
  {
   "cell_type": "code",
   "execution_count": null,
   "id": "3fd77930",
   "metadata": {},
   "outputs": [
    {
     "name": "stdout",
     "output_type": "stream",
     "text": [
      "Train shape: (14447, 14)\n",
      "Validation shape: (3096, 14)\n",
      "Test shape: (3097, 14)\n",
      "\n",
      "Before scaling (first feature of first sample): 1505.0\n",
      "After scaling  (first feature of first sample): -0.5124530213715498\n",
      "\n",
      "First 5 bias values in training set: [1. 1. 1. 1. 1.]\n"
     ]
    }
   ],
   "source": [
    "# Compute mean/std on training set only\n",
    "X_mean = X_train.mean(axis=0)\n",
    "X_std  = X_train.std(axis=0)\n",
    "# avoid divide-by-zero\n",
    "X_std[X_std == 0] = 1.0\n",
    "\n",
    "def standardize(X, mean=X_mean, std=X_std):                     \n",
    "    return (X - mean) / std                             # Standardization (z-score normalization) -> can be -ve\n",
    "\n",
    "X_train_s = standardize(X_train)\n",
    "X_val_s   = standardize(X_val)\n",
    "X_test_s  = standardize(X_test)\n",
    "\n",
    "# Add bias column (intercept)\n",
    "def add_bias(X):\n",
    "    return np.c_[np.ones((X.shape[0], 1)), X]\n",
    "\n",
    "X_train_b = add_bias(X_train_s)\n",
    "X_val_b   = add_bias(X_val_s)\n",
    "X_test_b  = add_bias(X_test_s)\n",
    "\n",
    "# Check shapes after bias addition\n",
    "print(\"Train shape:\", X_train_b.shape)                   # Original number of features + 1 for bias\n",
    "print(\"Validation shape:\", X_val_b.shape)\n",
    "print(\"Test shape:\", X_test_b.shape)\n",
    "\n",
    "# Show one example before/after scaling\n",
    "print(\"\\nBefore scaling (first feature of first sample):\", X_train[0][2])\n",
    "print(\"After scaling  (first feature of first sample):\", X_train_s[0][2])\n",
    "\n",
    "# Show the bias column (should be all 1s)\n",
    "print(\"\\nFirst 5 bias values in training set:\", X_train_b[:5, 0])"
   ]
  },
  {
   "cell_type": "markdown",
   "id": "a08082bd",
   "metadata": {},
   "source": [
    "# Utility functions: MSE, MAE"
   ]
  },
  {
   "cell_type": "code",
   "execution_count": 5,
   "id": "5684a6c3",
   "metadata": {},
   "outputs": [
    {
     "name": "stdout",
     "output_type": "stream",
     "text": [
      "MSE test value: 0.375\n",
      "MAE test value: 0.5\n"
     ]
    }
   ],
   "source": [
    "def mse(y_true, y_pred):\n",
    "    return np.mean((y_true - y_pred) ** 2)          # np.mean -> takes the average of all squared errors.\n",
    "\n",
    "def mae(y_true, y_pred):\n",
    "    return np.mean(np.abs(y_true - y_pred))         # y_true - y_pred: computes the error (difference) for each sample.\n",
    "                                                    # np.abs -> computes the absolute difference (ignores sign).\n",
    "# Example true vs predicted values\n",
    "y_true = np.array([3, -0.5, 2, 7])\n",
    "y_pred = np.array([2.5, 0.0, 2, 8])\n",
    "\n",
    "print(\"MSE test value:\", mse(y_true, y_pred))       # Lower MSE = better model (predictions closer to true values).\n",
    "print(\"MAE test value:\", mae(y_true, y_pred))"
   ]
  },
  {
   "cell_type": "markdown",
   "id": "a47c9da4",
   "metadata": {},
   "source": [
    "# Linear Regression: Normal Equation (closed form)"
   ]
  },
  {
   "cell_type": "code",
   "execution_count": null,
   "id": "ed9df29a",
   "metadata": {},
   "outputs": [
    {
     "name": "stdout",
     "output_type": "stream",
     "text": [
      "Validation MSE: 4575337829.500232\n",
      "Validation MAE: 49755.4666997863\n",
      "Test MSE: 5118393516.118098\n",
      "Test MAE: 50973.34961075813\n"
     ]
    }
   ],
   "source": [
    "def linear_normal_equation(X, y):               # X: feature matrix of shape (n_samples, n_features), each row = one data point, each column = one feature / y: target vector (true output values)\n",
    "    w = np.linalg.pinv(X.T @ X) @ X.T @ y       # @ → matrix multiplication \n",
    "    return w                                    # weights vector of shape (n_features)\n",
    "\n",
    "w_ne = linear_normal_equation(X_train_b, y_train)\n",
    "# Predictions on validation set\n",
    "y_val_pred_ne = X_val_b @ w_ne                  \n",
    "print(\"Validation MSE:\", mse(y_val, y_val_pred_ne))\n",
    "print(\"Validation MAE:\", mae(y_val, y_val_pred_ne))\n",
    "# Predictions on test set\n",
    "y_test_pred_ne = X_test_b @ w_ne              \n",
    "print(\"Test MSE:\", mse(y_test, y_test_pred_ne))\n",
    "print(\"Test MAE:\", mae(y_test, y_test_pred_ne))"
   ]
  },
  {
   "cell_type": "markdown",
   "id": "3c1e2953",
   "metadata": {},
   "source": [
    "# Linear Regression: Gradient Descent (batch)"
   ]
  },
  {
   "cell_type": "code",
   "execution_count": null,
   "id": "c62395c1",
   "metadata": {},
   "outputs": [
    {
     "name": "stdout",
     "output_type": "stream",
     "text": [
      "Validation MSE: 4590094260.538779\n",
      "Validation MAE: 49907.15842367187\n",
      "Test MSE: 5117119258.145263\n",
      "Test MAE: 51003.71532629396\n"
     ]
    }
   ],
   "source": [
    "# just like with the normal equation, but iteratively instead of using a direct formula.\n",
    "def gradient_descent(X, y, lr=0.01, n_iter=10000, tol=1e-8, verbose=False):  # lr: learning rate, n_iter: max iterations, tol: tolerance\n",
    "    n_samples, n_features = X.shape\n",
    "    w = np.zeros(n_features)                                                 # start all weights at zero.\n",
    "    prev_loss = float(\"inf\")                                                 # Keeps track of previous iteration’s loss to detect when to stop (early stopping).\n",
    "    for it in range(n_iter):                                                 # Loop through up to n_iter iterations, updating weights each time.\n",
    "        y_pred = X @ w\n",
    "        error = y_pred - y\n",
    "        loss = np.mean(error ** 2)\n",
    "        grad = (2.0 / n_samples) * (X.T @ error)                             # gradient of MSE w.r.t w\n",
    "        w -= lr * grad\n",
    "        if verbose and (it % (n_iter // 10 + 1) == 0):                       # If verbose=True, prints the current iteration number and loss every few steps.\n",
    "            print(f\"iter {it}, loss {loss:.5f}\")\n",
    "        if abs(prev_loss - loss) < tol:\n",
    "            break\n",
    "        prev_loss = loss\n",
    "    return w\n",
    "\n",
    "# Example training \n",
    "w_gd = gradient_descent(X_train_b, y_train, lr=0.01, n_iter=20000, tol=1e-9)\n",
    "# Predict on validation set\n",
    "y_val_pred_gd = X_val_b @ w_gd\n",
    "print(\"Validation MSE:\", mse(y_val, y_val_pred_gd))\n",
    "print(\"Validation MAE:\", mae(y_val, y_val_pred_gd))\n",
    "# Predict on test set\n",
    "y_test_pred_gd = X_test_b @ w_gd \n",
    "print(\"Test MSE:\", mse(y_test, y_test_pred_gd))\n",
    "print(\"Test MAE:\", mae(y_test, y_test_pred_gd))"
   ]
  },
  {
   "cell_type": "markdown",
   "id": "c16671d6",
   "metadata": {},
   "source": [
    "# Ridge Regression (L2 Regularization) - Closed Form"
   ]
  },
  {
   "cell_type": "code",
   "execution_count": 8,
   "id": "7ba0802a",
   "metadata": {},
   "outputs": [
    {
     "name": "stdout",
     "output_type": "stream",
     "text": [
      "Ridge MSE (λ=1.0): 4575900828.46942\n",
      "Ridge MAE (λ=1.0): 49763.59292706879\n"
     ]
    },
    {
     "data": {
      "image/png": "[encoded data removed]",
      "text/plain": [
       "<Figure size 600x400 with 1 Axes>"
      ]
     },
     "metadata": {},
     "output_type": "display_data"
    },
    {
     "name": "stdout",
     "output_type": "stream",
     "text": [
      "Best λ for Ridge: 0.001\n"
     ]
    }
   ],
   "source": [
    "def ridge_closed_form(X, y, lam):\n",
    "    n_features = X.shape[1]\n",
    "    I = np.eye(n_features)\n",
    "    I[0, 0] = 0             # do not regularize bias\n",
    "    w = np.linalg.pinv(X.T @ X + lam * I) @ X.T @ y\n",
    "    return w\n",
    "\n",
    "# Try example lambda\n",
    "lam = 1.0\n",
    "w_ridge = ridge_closed_form(X_train_b, y_train, lam)\n",
    "print(\"Ridge MSE (λ=1.0):\", mse(y_val, X_val_b @ w_ridge))\n",
    "print(\"Ridge MAE (λ=1.0):\", mae(y_val, X_val_b @ w_ridge))\n",
    "\n",
    "# Validation Curve\n",
    "lambdas = np.logspace(-3, 3, 20)  # test 20 values between 0.001 and 1000\n",
    "ridge_val_mse = []\n",
    "ridge_train_mse = []\n",
    "\n",
    "for lam in lambdas:\n",
    "    w_ridge = ridge_closed_form(X_train_b, y_train, lam)\n",
    "    y_val_pred = X_val_b @ w_ridge\n",
    "    ridge_val_mse.append(mse(y_val, y_val_pred))\n",
    "    y_train_pred = X_train_b @ w_ridge\n",
    "    ridge_train_mse.append(mse(y_train, y_train_pred))\n",
    "\n",
    "# Plot train and validation MSE vs lambda\n",
    "plt.figure(figsize=(6,4))\n",
    "plt.plot(lambdas, ridge_train_mse, label='Train MSE', marker='o')\n",
    "plt.plot(lambdas, ridge_val_mse, label='Validation MSE', marker='o')\n",
    "plt.xscale('log')\n",
    "plt.xlabel('Lambda (Regularization Strength)')\n",
    "plt.ylabel('MSE')\n",
    "plt.title('Ridge Validation Curve — Overfitting vs Underfitting')\n",
    "plt.legend()\n",
    "plt.grid(True)\n",
    "plt.show()\n",
    "\n",
    "# Find best lambda\n",
    "best_lam_ridge = lambdas[np.argmin(ridge_val_mse)]\n",
    "print(\"Best λ for Ridge:\", best_lam_ridge)\n"
   ]
  },
  {
   "cell_type": "markdown",
   "id": "dd86e567",
   "metadata": {},
   "source": [
    "# Lasso Regression (L1)"
   ]
  },
  {
   "cell_type": "code",
   "execution_count": 9,
   "id": "fdf760a3",
   "metadata": {},
   "outputs": [
    {
     "data": {
      "image/png": "[encoded data removed]",
      "text/plain": [
       "<Figure size 600x400 with 1 Axes>"
      ]
     },
     "metadata": {},
     "output_type": "display_data"
    },
    {
     "name": "stdout",
     "output_type": "stream",
     "text": [
      "Best λ for Lasso: 0.001\n",
      "Lasso MSE (λ=0.001): 4575337921.685766\n",
      "Lasso MAE (λ=0.001): 49755.46804220087\n"
     ]
    }
   ],
   "source": [
    "# Regularization values (λ)\n",
    "lambdas = np.logspace(-3, 3, 20)   # from 0.001 → 1000\n",
    "lasso_train_mse = []\n",
    "lasso_val_mse = []\n",
    "\n",
    "for lam in lambdas:\n",
    "    lasso_model = Lasso(alpha=lam, max_iter=10000)\n",
    "    lasso_model.fit(X_train_b[:, 1:], y_train)     \n",
    "\n",
    "    # Predictions\n",
    "    y_train_pred = lasso_model.predict(X_train_b[:, 1:])\n",
    "    y_val_pred = lasso_model.predict(X_val_b[:, 1:])\n",
    "\n",
    "    # Compute MSEs\n",
    "    lasso_train_mse.append(mse(y_train, y_train_pred))\n",
    "    lasso_val_mse.append(mse(y_val, y_val_pred))\n",
    "\n",
    "# Plot training vs validation MSE \n",
    "plt.figure(figsize=(6,4))\n",
    "plt.plot(lambdas, lasso_train_mse, label='Train MSE', marker='o')\n",
    "plt.plot(lambdas, lasso_val_mse, label='Validation MSE', marker='o')\n",
    "plt.xscale('log')\n",
    "plt.xlabel('Lambda (Regularization Strength)')\n",
    "plt.ylabel('MSE')\n",
    "plt.title('Lasso Regression — Overfitting vs Underfitting')\n",
    "plt.legend()\n",
    "plt.grid(True)\n",
    "plt.show()\n",
    "\n",
    "# Find the best lambda \n",
    "best_lam_lasso = lambdas[np.argmin(lasso_val_mse)]\n",
    "print(\"Best λ for Lasso:\", best_lam_lasso)\n",
    "\n",
    "# Evaluate Lasso using best lambda (like Ridge)\n",
    "best_lasso = Lasso(alpha=best_lam_lasso, max_iter=20000)\n",
    "best_lasso.fit(X_train_b[:, 1:], y_train)\n",
    "\n",
    "# Validation predictions\n",
    "y_val_pred_lasso = best_lasso.predict(X_val_b[:, 1:])\n",
    "\n",
    "# Compute and print MSE / MAE\n",
    "print(f\"Lasso MSE (λ={best_lam_lasso:.3g}):\", mse(y_val, y_val_pred_lasso))\n",
    "print(f\"Lasso MAE (λ={best_lam_lasso:.3g}):\", mae(y_val, y_val_pred_lasso))\n"
   ]
  },
  {
   "cell_type": "markdown",
   "id": "1a3d3933",
   "metadata": {},
   "source": [
    "# Final training & test evaluation"
   ]
  },
  {
   "cell_type": "code",
   "execution_count": 11,
   "id": "4d98bab8",
   "metadata": {},
   "outputs": [
    {
     "name": "stdout",
     "output_type": "stream",
     "text": [
      "\n",
      "Test set performance (retrained on train+val where applicable):\n",
      "                            Test_MSE      Test_MAE\n",
      "Model                                             \n",
      "NormalEqn               5.128255e+09  50966.364978\n",
      "GradientDescent         5.125018e+09  50943.736275\n",
      "Ridge (λ=0.001)         5.128255e+09  50966.361674\n",
      "SklearnLasso (λ=0.001)  5.128255e+09  50966.364448\n"
     ]
    },
    {
     "data": {
      "image/png": "[encoded data removed]",
      "text/plain": [
       "<Figure size 800x400 with 1 Axes>"
      ]
     },
     "metadata": {},
     "output_type": "display_data"
    }
   ],
   "source": [
    "# Combine train + val for final retraining\n",
    "X_comb_b = np.vstack([X_train_b, X_val_b])       # with bias\n",
    "y_comb   = np.concatenate([y_train, y_val])\n",
    "\n",
    "# Retrain all regression models on combined\n",
    "final_w_ne = linear_normal_equation(X_comb_b, y_comb)\n",
    "\n",
    "final_w_gd = gradient_descent(X_comb_b, y_comb, lr=0.01, n_iter=30000, tol=1e-9, verbose=False)\n",
    "\n",
    "final_w_ridge = ridge_closed_form(X_comb_b, y_comb, best_lam_ridge)\n",
    "\n",
    "sk_lasso = Lasso(alpha=best_lam_lasso, max_iter=20000)\n",
    "sk_lasso.fit(X_comb_b[:, 1:], y_comb)\n",
    "\n",
    "# Build weight vector with intercept first to be consistent with others\n",
    "final_w_sklearn_lasso = np.concatenate(([sk_lasso.intercept_], sk_lasso.coef_))\n",
    "\n",
    "# Evaluate all models on test set\n",
    "models = {\n",
    "    \"NormalEqn\": final_w_ne,\n",
    "    \"GradientDescent\": final_w_gd,\n",
    "    f\"Ridge (λ={best_lam_ridge:.3g})\": final_w_ridge,\n",
    "    f\"SklearnLasso (λ={best_lam_lasso:.3g})\": final_w_sklearn_lasso\n",
    "}\n",
    "\n",
    "results = []\n",
    "for name, w in models.items():\n",
    "    y_test_pred = X_test_b @ w\n",
    "    results.append({\n",
    "        \"Model\": name,\n",
    "        \"Test_MSE\": mse(y_test, y_test_pred),\n",
    "        \"Test_MAE\": mae(y_test, y_test_pred)\n",
    "    })\n",
    "\n",
    "results_df = pd.DataFrame(results).set_index(\"Model\")\n",
    "print(\"\\nTest set performance (retrained on train+val where applicable):\")\n",
    "print(results_df)\n",
    "\n",
    "# Simple bar plot of Test MSE comparison\n",
    "plt.figure(figsize=(8,4))\n",
    "results_df[\"Test_MSE\"].plot(kind='bar')\n",
    "plt.ylabel(\"Test MSE\")\n",
    "plt.title(\"Test MSE — Model Comparison\")\n",
    "plt.grid(axis='y', linestyle='--', alpha=0.6)\n",
    "plt.show()"
   ]
  }
 ],
 "metadata": {
  "kernelspec": {
   "display_name": "Python 3 (ipykernel)",
   "language": "python",
   "name": "python3"
  },
  "language_info": {
   "codemirror_mode": {
    "name": "ipython",
    "version": 3
   },
   "file_extension": ".py",
   "mimetype": "text/x-python",
   "name": "python",
   "nbconvert_exporter": "python",
   "pygments_lexer": "ipython3",
   "version": "3.11.9"
  }
 },
 "nbformat": 4,
 "nbformat_minor": 5
}
